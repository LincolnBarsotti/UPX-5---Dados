{
 "cells": [
  {
   "cell_type": "code",
   "execution_count": 13,
   "metadata": {},
   "outputs": [
    {
     "name": "stdout",
     "output_type": "stream",
     "text": [
      "Arquivo JSON foi salvo com sucesso!\n"
     ]
    }
   ],
   "source": [
    "import openpyxl\n",
    "import json\n",
    "\n",
    "# Function to read the XLSX file and convert it to JSON\n",
    "def read_xlsx(file_path):\n",
    "    # Load the workbook and select the first worksheet\n",
    "    workbook = openpyxl.load_workbook(file_path)\n",
    "    worksheet = workbook.active  # Select the first sheet\n",
    "    \n",
    "    json_data = []\n",
    "    \n",
    "    # Get the titles from the first row (headers)\n",
    "    titles = [cell.value for cell in worksheet[1] if cell.value is not None]  # Ignore None headers\n",
    "\n",
    "    # Iterate through the rows, starting from the second row\n",
    "    for row in worksheet.iter_rows(min_row=2, values_only=True):\n",
    "        row_data = {}\n",
    "        # Only add the values that correspond to non-None headers\n",
    "        for idx, cell_value in enumerate(row):\n",
    "            # Check if the title at idx exists and is not None\n",
    "            if idx < len(titles):\n",
    "                row_data[titles[idx]] = cell_value\n",
    "        json_data.append(row_data)\n",
    "\n",
    "    return json_data\n",
    "\n",
    "# Path to the XLSX file\n",
    "file_path = 'incidentes.xlsx'  # Replace with your actual file path\n",
    "\n",
    "# Read the XLSX file and convert it to JSON format\n",
    "json_data = read_xlsx(file_path)\n",
    "\n",
    "# Convert the data to a formatted JSON string\n",
    "json_content = json.dumps(json_data, indent=2, ensure_ascii=False)\n",
    "\n",
    "# Save the JSON data to a file\n",
    "with open('teste.json', 'w', encoding='utf8') as json_file:\n",
    "    json_file.write(json_content)\n",
    "\n",
    "print(\"Arquivo JSON foi salvo com sucesso!\")\n"
   ]
  }
 ],
 "metadata": {
  "kernelspec": {
   "display_name": "Python 3",
   "language": "python",
   "name": "python3"
  },
  "language_info": {
   "codemirror_mode": {
    "name": "ipython",
    "version": 3
   },
   "file_extension": ".py",
   "mimetype": "text/x-python",
   "name": "python",
   "nbconvert_exporter": "python",
   "pygments_lexer": "ipython3",
   "version": "3.12.5"
  }
 },
 "nbformat": 4,
 "nbformat_minor": 2
}
